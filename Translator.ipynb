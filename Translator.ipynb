{
 "cells": [
  {
   "cell_type": "code",
   "execution_count": 18,
   "id": "a85c37c9",
   "metadata": {},
   "outputs": [],
   "source": [
    "#!pip install python-docx\n",
    "#!pip install openpyxl"
   ]
  },
  {
   "cell_type": "code",
   "execution_count": 9,
   "id": "e3879da0",
   "metadata": {},
   "outputs": [],
   "source": [
    "from transformers import pipeline\n",
    "import nltk"
   ]
  },
  {
   "cell_type": "code",
   "execution_count": 10,
   "id": "45478091",
   "metadata": {},
   "outputs": [],
   "source": [
    "tokenizer_en = nltk.data.load('tokenizers/punkt/english.pickle')\n",
    "tokenizer_fr = nltk.data.load('tokenizers/punkt/french.pickle')\n",
    "tokenizer_tr = nltk.data.load('tokenizers/punkt/turkish.pickle')"
   ]
  },
  {
   "cell_type": "code",
   "execution_count": 11,
   "id": "d8e7fd3c",
   "metadata": {},
   "outputs": [],
   "source": [
    "translator_en_ru = pipeline(task='translation', model='Helsinki-NLP/opus-mt-en-ru', device='cuda:0')\n",
    "translator_fr_ru = pipeline(task='translation', model='Helsinki-NLP/opus-mt-fr-ru', device='cuda:0')\n",
    "translator_tr_en = pipeline(task='translation', model='Helsinki-NLP/opus-mt-tr-en', device='cuda:0')"
   ]
  },
  {
   "cell_type": "code",
   "execution_count": 16,
   "id": "6c205af6",
   "metadata": {},
   "outputs": [],
   "source": [
    "#translator_zh_en = pipeline(task='translation', model='Helsinki-NLP/opus-mt-zh-en', device='cuda:0')"
   ]
  },
  {
   "cell_type": "markdown",
   "id": "bcb31d5f",
   "metadata": {},
   "source": [
    "# Работа с DOCX"
   ]
  },
  {
   "cell_type": "code",
   "execution_count": 7,
   "id": "2a937c5b",
   "metadata": {},
   "outputs": [],
   "source": [
    "import docx"
   ]
  },
  {
   "cell_type": "code",
   "execution_count": 8,
   "id": "106d9000",
   "metadata": {},
   "outputs": [],
   "source": [
    "def copy_runformat(run, etalon_run):\n",
    "    '''Копирует формат (шрифт, стиль, начертание текста) структуры run из эталона'''\n",
    "    run.style = etalon_run.style\n",
    "    run.font.name = etalon_run.font.name\n",
    "    run.font.size = etalon_run.font.size\n",
    "    run.font.color.rgb = etalon_run.font.color.rgb\n",
    "    run.bold = etalon_run.bold\n",
    "    run.italic = etalon_run.italic\n",
    "    run.underline = etalon_run.underline"
   ]
  },
  {
   "cell_type": "code",
   "execution_count": 9,
   "id": "ee989712",
   "metadata": {},
   "outputs": [],
   "source": [
    "def do_paragraph(paragraph, lang='English'):\n",
    "    '''Делит абзац на предложения, переводит их и записывает в исходный абзац вместо оригинального текста\n",
    "    При этом для измененного абзаца выставляется формат (шрифт, стиль, начертание текста)\n",
    "    первой структуры run оригинального абзаца'''\n",
    "    trans_phrases = []\n",
    "    if lang == 'English':\n",
    "        tokenizer = tokenizer_en\n",
    "        translator = translator_en_ru\n",
    "    if lang == 'French':\n",
    "        tokenizer = tokenizer_fr\n",
    "        translator = translator_fr_ru\n",
    "    if lang == 'Turkish':\n",
    "        tokenizer = tokenizer_tr\n",
    "        translator = translator_tr_en\n",
    "#    if lang == 'Chinese':\n",
    "    phrases = tokenizer.tokenize(paragraph.text)\n",
    "#    print(phrases)\n",
    "    if not phrases:\n",
    "        return\n",
    "    trans_phrases_dict = translator(phrases)\n",
    "    for dict in trans_phrases_dict:\n",
    "        trans_phrases+=list(dict.values())\n",
    "#    print(trans_phrases)\n",
    "    if len(paragraph.runs) > 0:\n",
    "        run = paragraph.runs[0]\n",
    "        paragraph.text = ' '.join(trans_phrases)\n",
    "        copy_runformat(paragraph.runs[0], run)\n",
    "    else:\n",
    "        paragraph.text = ' '.join(trans_phrases)"
   ]
  },
  {
   "cell_type": "code",
   "execution_count": 10,
   "id": "76575a02",
   "metadata": {},
   "outputs": [],
   "source": [
    "def translate_docx(filename, lang='English'):\n",
    "    '''Переводит входящий файл по абзацам и создает новый файл с переведенным текстом.\n",
    "    Выходной файл имеет \"_res\" в конце имени файла'''\n",
    "    doc = docx.Document(filename)\n",
    "    for paragraph in doc.paragraphs:\n",
    "        do_paragraph(paragraph, lang)\n",
    "        if lang == 'Turkish' or lang == 'Chinese':\n",
    "            do_paragraph(paragraph)\n",
    "    for table in doc.tables:\n",
    "        for row in table.rows:\n",
    "            for cell in row.cells:\n",
    "                for paragraph in cell.paragraphs:\n",
    "                    do_paragraph(paragraph, lang)\n",
    "                    if lang == 'Turkish' or lang == 'Chinese':\n",
    "                        do_paragraph(paragraph)\n",
    "  \n",
    "    filename_list = filename.split('.')\n",
    "    filename_list[-2]+='_res'\n",
    "    filename_out = '.'.join(filename_list)\n",
    "    doc.save(filename_out)"
   ]
  },
  {
   "cell_type": "code",
   "execution_count": 652,
   "id": "c2206d1e",
   "metadata": {},
   "outputs": [],
   "source": [
    "translate_docx('test_en.docx')"
   ]
  },
  {
   "cell_type": "code",
   "execution_count": 653,
   "id": "2782ae37",
   "metadata": {},
   "outputs": [],
   "source": [
    "translate_docx('test_fr.docx', 'French')"
   ]
  },
  {
   "cell_type": "code",
   "execution_count": 660,
   "id": "97e66142",
   "metadata": {},
   "outputs": [],
   "source": [
    "translate_docx('test_tr.docx', 'Turkish')"
   ]
  },
  {
   "cell_type": "code",
   "execution_count": null,
   "id": "ea828ad2",
   "metadata": {},
   "outputs": [],
   "source": []
  },
  {
   "cell_type": "code",
   "execution_count": null,
   "id": "6817c669",
   "metadata": {},
   "outputs": [],
   "source": []
  },
  {
   "cell_type": "markdown",
   "id": "1c4f31b5",
   "metadata": {},
   "source": [
    "# Работа с XLSX"
   ]
  },
  {
   "cell_type": "code",
   "execution_count": 12,
   "id": "afa86b00",
   "metadata": {},
   "outputs": [],
   "source": [
    "from openpyxl import load_workbook"
   ]
  },
  {
   "cell_type": "code",
   "execution_count": 13,
   "id": "2195e7cd",
   "metadata": {},
   "outputs": [],
   "source": [
    "def do_cell(cell_value, lang='English'):\n",
    "    '''Делит текст ячейкки на предложения, переводит их и записывает в исходную ячейку вместо оригинального текста\n",
    "    При этом сохраняется изначальное форматирование ячейки'''\n",
    "    trans_phrases = []\n",
    "    if lang == 'English':\n",
    "        tokenizer = tokenizer_en\n",
    "        translator = translator_en_ru\n",
    "    if lang == 'French':\n",
    "        tokenizer = tokenizer_fr\n",
    "        translator = translator_fr_ru\n",
    "    if lang == 'Turkish':\n",
    "        tokenizer = tokenizer_tr\n",
    "        translator = translator_tr_en\n",
    "#    if lang == 'Chinese':\n",
    "        \n",
    "    phrases = tokenizer.tokenize(cell_value)\n",
    "    if not phrases:\n",
    "        return\n",
    "    trans_phrases_dict = translator(phrases)\n",
    "    for dict in trans_phrases_dict:\n",
    "        trans_phrases+=list(dict.values())\n",
    "    return ' '.join(trans_phrases)"
   ]
  },
  {
   "cell_type": "code",
   "execution_count": 14,
   "id": "e6458fde",
   "metadata": {},
   "outputs": [],
   "source": [
    "def translate_xlsx(filename, lang='English'):\n",
    "    '''Переводит входящий файл по ячейкам и создает новый файл с переведенным текстом.\n",
    "    Выходной файл имеет \"_res\" в конце имени файла '''\n",
    "    workbook = load_workbook(filename)\n",
    "    for sheetname in workbook.sheetnames:\n",
    "        sheet = workbook[sheetname]\n",
    "        for row in sheet.rows:\n",
    "            for cell in row:\n",
    "                if cell.value and cell.data_type=='s' and cell.value[0]!='=':\n",
    "                    cell.value = do_cell(cell.value, lang)\n",
    "                    if lang == 'Turkish':\n",
    "                        cell.value = do_cell(cell.value)\n",
    "    \n",
    "    filename_list = filename.split('.')\n",
    "    filename_list[-2]+='_res'\n",
    "    filename_out = '.'.join(filename_list)\n",
    "    workbook.save(filename_out)"
   ]
  },
  {
   "cell_type": "code",
   "execution_count": 15,
   "id": "28a5df83",
   "metadata": {},
   "outputs": [],
   "source": [
    "translate_xlsx('test_en.xlsx')"
   ]
  },
  {
   "cell_type": "code",
   "execution_count": null,
   "id": "ae62eac1",
   "metadata": {},
   "outputs": [],
   "source": []
  },
  {
   "cell_type": "code",
   "execution_count": null,
   "id": "e29731c8",
   "metadata": {},
   "outputs": [],
   "source": []
  }
 ],
 "metadata": {
  "kernelspec": {
   "display_name": "Python 3 (ipykernel)",
   "language": "python",
   "name": "python3"
  },
  "language_info": {
   "codemirror_mode": {
    "name": "ipython",
    "version": 3
   },
   "file_extension": ".py",
   "mimetype": "text/x-python",
   "name": "python",
   "nbconvert_exporter": "python",
   "pygments_lexer": "ipython3",
   "version": "3.9.13"
  }
 },
 "nbformat": 4,
 "nbformat_minor": 5
}
